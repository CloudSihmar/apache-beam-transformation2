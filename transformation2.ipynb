{
 "cells": [
  {
   "cell_type": "markdown",
   "id": "eec31b0a-5916-4f58-ad03-123ab9fdcff1",
   "metadata": {},
   "source": [
    "ToString"
   ]
  },
  {
   "cell_type": "code",
   "execution_count": 4,
   "id": "af11348c-32f1-4972-96f8-b691f8dd1d1c",
   "metadata": {
    "tags": []
   },
   "outputs": [
    {
     "name": "stdout",
     "output_type": "stream",
     "text": [
      "sam,{'jobs': ['Engineer'], 'city': ['Delhi']}\n",
      "sandeep,{'jobs': ['DevOps Engineer'], 'city': ['Pune']}\n",
      "john,{'jobs': ['Data Scientist'], 'city': ['San Francisco']}\n",
      "emma,{'jobs': ['Product Manager'], 'city': ['New York']}\n"
     ]
    },
    {
     "data": {
      "text/plain": [
       "'DONE'"
      ]
     },
     "execution_count": 4,
     "metadata": {},
     "output_type": "execute_result"
    }
   ],
   "source": [
    "import apache_beam as beam\n",
    "\n",
    "# Define the data for jobs and cities\n",
    "jobs = [\n",
    "    (\"sam\", \"Engineer\"),\n",
    "    (\"sandeep\", \"DevOps Engineer\"),\n",
    "    (\"john\", \"Data Scientist\"),\n",
    "    (\"emma\", \"Product Manager\")\n",
    "]\n",
    "\n",
    "city = [\n",
    "    (\"sam\", \"Delhi\"),\n",
    "    (\"sandeep\", \"Pune\"),\n",
    "    (\"john\", \"San Francisco\"),\n",
    "    (\"emma\", \"New York\")\n",
    "]\n",
    "\n",
    "# Create a pipeline with the DirectRunner\n",
    "p = beam.Pipeline(beam.runners.DirectRunner())\n",
    "\n",
    "# Create PCollections from the sample data\n",
    "jobs_create = p | \"Create jobs\" >> beam.Create(jobs)\n",
    "city_create = p | \"Create city\" >> beam.Create(city)\n",
    "\n",
    "# Apply CoGroupByKey to group jobs and city data by name\n",
    "cogbk = ({'jobs': jobs_create, 'city': city_create}) | \"CoGroupByKey\" >> beam.CoGroupByKey()\n",
    "\n",
    "# Convert the grouped data to strings using ToString.Kvs\n",
    "string_cogbk = cogbk | \"ToString.Kvs\" >> beam.ToString.Kvs()\n",
    "\n",
    "# Print the resulting PCollection\n",
    "string_cogbk | \"Print\" >> beam.Map(print)\n",
    "\n",
    "# Run the pipeline\n",
    "result = p.run()\n",
    "result.wait_until_finish()\n"
   ]
  },
  {
   "cell_type": "markdown",
   "id": "fb53e1e4-984c-4da5-af70-c8ca2b17a918",
   "metadata": {},
   "source": [
    "Key"
   ]
  },
  {
   "cell_type": "code",
   "execution_count": 5,
   "id": "d8072e47-411e-466e-a8ff-214df8204627",
   "metadata": {
    "tags": []
   },
   "outputs": [
    {
     "name": "stdout",
     "output_type": "stream",
     "text": [
      "category1\n",
      "category2\n",
      "category1\n",
      "category3\n"
     ]
    }
   ],
   "source": [
    "import apache_beam as beam\n",
    "\n",
    "with beam.Pipeline() as p:\n",
    "    data = [\n",
    "        ('category1', 100),\n",
    "        ('category2', 200),\n",
    "        ('category1', 150),\n",
    "        ('category3', 300)\n",
    "    ]\n",
    "    \n",
    "    key_values = p | \"Create Data\" >> beam.Create(data)\n",
    "    keys = key_values | \"Extract Keys\" >> beam.Keys()\n",
    "    \n",
    "    keys | \"Print Keys\" >> beam.Map(print)\n"
   ]
  },
  {
   "cell_type": "markdown",
   "id": "27b9414a-d44a-4515-812a-eeecca4aba7b",
   "metadata": {},
   "source": [
    "Values"
   ]
  },
  {
   "cell_type": "code",
   "execution_count": 6,
   "id": "44635d29-f778-4fe4-922f-22c1422e7fd1",
   "metadata": {
    "tags": []
   },
   "outputs": [
    {
     "name": "stdout",
     "output_type": "stream",
     "text": [
      "100\n",
      "200\n",
      "150\n",
      "300\n"
     ]
    }
   ],
   "source": [
    "import apache_beam as beam\n",
    "\n",
    "with beam.Pipeline() as p:\n",
    "    data = [\n",
    "        ('category1', 100),\n",
    "        ('category2', 200),\n",
    "        ('category1', 150),\n",
    "        ('category3', 300)\n",
    "    ]\n",
    "    \n",
    "    key_values = p | \"Create Data\" >> beam.Create(data)\n",
    "    values = key_values | \"Extract Values\" >> beam.Values()\n",
    "    \n",
    "    values | \"Print Values\" >> beam.Map(print)\n"
   ]
  },
  {
   "cell_type": "code",
   "execution_count": null,
   "id": "4b7f617f-7727-47cc-9810-f1f4524f8169",
   "metadata": {},
   "outputs": [],
   "source": [
    "kvswap"
   ]
  },
  {
   "cell_type": "code",
   "execution_count": 7,
   "id": "831c8bc8-0298-4aa2-bacd-6a7d9da1158c",
   "metadata": {
    "tags": []
   },
   "outputs": [
    {
     "name": "stdout",
     "output_type": "stream",
     "text": [
      "(100, 'category1')\n",
      "(200, 'category2')\n",
      "(150, 'category1')\n",
      "(300, 'category3')\n"
     ]
    }
   ],
   "source": [
    "import apache_beam as beam\n",
    "\n",
    "with beam.Pipeline() as p:\n",
    "    data = [\n",
    "        ('category1', 100),\n",
    "        ('category2', 200),\n",
    "        ('category1', 150),\n",
    "        ('category3', 300)\n",
    "    ]\n",
    "    \n",
    "    key_values = p | \"Create Data\" >> beam.Create(data)\n",
    "    swapped_kvs = key_values | \"Swap KVs\" >> beam.KvSwap()\n",
    "    \n",
    "    swapped_kvs | \"Print Swapped KVs\" >> beam.Map(print)\n"
   ]
  },
  {
   "cell_type": "markdown",
   "id": "91f9da5e-7247-4729-86f7-d9e13d47e242",
   "metadata": {},
   "source": [
    "Distinct"
   ]
  },
  {
   "cell_type": "code",
   "execution_count": 8,
   "id": "d795a9ba-c668-495c-8f18-86f4befffd84",
   "metadata": {
    "tags": []
   },
   "outputs": [
    {
     "name": "stdout",
     "output_type": "stream",
     "text": [
      "apple\n",
      "banana\n",
      "orange\n",
      "grape\n"
     ]
    }
   ],
   "source": [
    "import apache_beam as beam\n",
    "\n",
    "# Sample data with duplicates\n",
    "data = [\n",
    "    'apple', 'banana', 'apple', 'orange', 'banana', 'grape'\n",
    "]\n",
    "\n",
    "# Create a Beam pipeline\n",
    "with beam.Pipeline() as p:\n",
    "    # Create a PCollection from the sample data\n",
    "    input_data = p | \"Create Input Data\" >> beam.Create(data)\n",
    "    \n",
    "    # Apply the Distinct transformation to remove duplicates\n",
    "    distinct_data = input_data | \"Remove Duplicates\" >> beam.Distinct()\n",
    "    \n",
    "    # Print the distinct elements\n",
    "    distinct_data | \"Print Distinct Elements\" >> beam.Map(print)\n"
   ]
  },
  {
   "cell_type": "markdown",
   "id": "ab87e596-cbc8-4e04-9f18-2df5cb20b93c",
   "metadata": {},
   "source": [
    "CombineGlobally"
   ]
  },
  {
   "cell_type": "code",
   "execution_count": 9,
   "id": "94711e9b-da1d-4acc-93e4-1c6f7c3c6312",
   "metadata": {
    "tags": []
   },
   "outputs": [
    {
     "name": "stdout",
     "output_type": "stream",
     "text": [
      "55\n"
     ]
    }
   ],
   "source": [
    "import apache_beam as beam\n",
    "\n",
    "# Sample data: a list of numbers\n",
    "numbers = [1, 2, 3, 4, 5, 6, 7, 8, 9, 10]\n",
    "\n",
    "# Create a Beam pipeline\n",
    "with beam.Pipeline() as p:\n",
    "    # Create a PCollection from the sample data\n",
    "    input_data = p | \"Create Input Data\" >> beam.Create(numbers)\n",
    "    \n",
    "    # Apply CombineGlobally transformation to sum all the numbers\n",
    "    summed_value = input_data | \"Sum Globally\" >> beam.CombineGlobally(sum)\n",
    "    \n",
    "    # Print the summed value\n",
    "    summed_value | \"Print Summed Value\" >> beam.Map(print)\n"
   ]
  },
  {
   "cell_type": "code",
   "execution_count": null,
   "id": "8e48727f-d855-46c6-86b8-46f2c9700461",
   "metadata": {},
   "outputs": [],
   "source": [
    "CombinePerKey"
   ]
  },
  {
   "cell_type": "code",
   "execution_count": 10,
   "id": "41201f89-ba8e-4ebf-9d03-b2ac6cbfb44a",
   "metadata": {
    "tags": []
   },
   "outputs": [
    {
     "name": "stdout",
     "output_type": "stream",
     "text": [
      "('cat', 3)\n",
      "('dog', 4)\n",
      "('mouse', 5)\n"
     ]
    }
   ],
   "source": [
    "import apache_beam as beam\n",
    "\n",
    "# Sample data: a list of key-value pairs\n",
    "key_value_pairs = [\n",
    "    ('cat', 1), \n",
    "    ('dog', 2), \n",
    "    ('cat', 3), \n",
    "    ('dog', 4), \n",
    "    ('mouse', 5)\n",
    "]\n",
    "\n",
    "# Create a Beam pipeline\n",
    "with beam.Pipeline() as p:\n",
    "    # Create a PCollection from the sample data\n",
    "    input_data = p | \"Create Input Data\" >> beam.Create(key_value_pairs)\n",
    "    \n",
    "    # Apply CombinePerKey transformation to find the maximum value for each key\n",
    "    max_per_key = input_data | \"Max Per Key\" >> beam.CombinePerKey(max)\n",
    "    \n",
    "    # Print the maximum values per key\n",
    "    max_per_key | \"Print Max Per Key\" >> beam.Map(print)\n"
   ]
  },
  {
   "cell_type": "markdown",
   "id": "04222cf2-6749-410e-8334-a6223271c15c",
   "metadata": {},
   "source": [
    "Count.Globally"
   ]
  },
  {
   "cell_type": "code",
   "execution_count": 11,
   "id": "ac458cee-1ad7-4af2-8531-33fa969333ec",
   "metadata": {
    "tags": []
   },
   "outputs": [
    {
     "name": "stdout",
     "output_type": "stream",
     "text": [
      "10\n"
     ]
    }
   ],
   "source": [
    "import apache_beam as beam\n",
    "\n",
    "# Sample data: a list of elements\n",
    "elements = [1, 2, 3, 4, 5, 6, 7, 8, 9, 10]\n",
    "\n",
    "# Create a Beam pipeline\n",
    "with beam.Pipeline() as p:\n",
    "    # Create a PCollection from the sample data\n",
    "    input_data = p | \"Create Input Data\" >> beam.Create(elements)\n",
    "    \n",
    "    # Apply Count.Globally transformation to count all elements\n",
    "    total_count = input_data | \"Count Globally\" >> beam.combiners.Count.Globally()\n",
    "    \n",
    "    # Print the total count\n",
    "    total_count | \"Print Total Count\" >> beam.Map(print)\n"
   ]
  },
  {
   "cell_type": "markdown",
   "id": "85796c62-aa4f-4b5e-a688-7f4fdaaa49af",
   "metadata": {},
   "source": [
    "Count.PerKey"
   ]
  },
  {
   "cell_type": "code",
   "execution_count": 12,
   "id": "9749aef0-fda4-4c67-87d8-e7cdf2b5bcb7",
   "metadata": {
    "tags": []
   },
   "outputs": [
    {
     "name": "stdout",
     "output_type": "stream",
     "text": [
      "('cat', 2)\n",
      "('dog', 2)\n",
      "('mouse', 1)\n"
     ]
    }
   ],
   "source": [
    "import apache_beam as beam\n",
    "\n",
    "# Sample data: a list of key-value pairs\n",
    "key_value_pairs = [\n",
    "    ('cat', 1), \n",
    "    ('dog', 2), \n",
    "    ('cat', 3), \n",
    "    ('dog', 4), \n",
    "    ('mouse', 5)\n",
    "]\n",
    "\n",
    "# Create a Beam pipeline\n",
    "with beam.Pipeline() as p:\n",
    "    # Create a PCollection from the sample data\n",
    "    input_data = p | \"Create Input Data\" >> beam.Create(key_value_pairs)\n",
    "    \n",
    "    # Apply Count.PerKey transformation to count occurrences per key\n",
    "    counts_per_key = input_data | \"Count Per Key\" >> beam.combiners.Count.PerKey()\n",
    "    \n",
    "    # Print the counts per key\n",
    "    counts_per_key | \"Print Counts Per Key\" >> beam.Map(print)\n"
   ]
  },
  {
   "cell_type": "markdown",
   "id": "18ee91f3-d39a-422b-b5eb-2b18bc9bf98d",
   "metadata": {},
   "source": [
    "Count.PerElement"
   ]
  },
  {
   "cell_type": "code",
   "execution_count": 13,
   "id": "9f789205-3620-4011-8d6b-e8bb72cef401",
   "metadata": {
    "tags": []
   },
   "outputs": [
    {
     "name": "stdout",
     "output_type": "stream",
     "text": [
      "(1, 2)\n",
      "(2, 2)\n",
      "(3, 2)\n",
      "(4, 1)\n",
      "(5, 1)\n"
     ]
    }
   ],
   "source": [
    "import apache_beam as beam\n",
    "\n",
    "# Sample data: a list of elements\n",
    "elements = [1, 2, 3, 1, 2, 3, 4, 5]\n",
    "\n",
    "# Create a Beam pipeline\n",
    "with beam.Pipeline() as p:\n",
    "    # Create a PCollection from the sample data\n",
    "    input_data = p | \"Create Input Data\" >> beam.Create(elements)\n",
    "    \n",
    "    # Apply Count.PerElement transformation to count occurrences per element\n",
    "    counts_per_element = input_data | \"Count Per Element\" >> beam.combiners.Count.PerElement()\n",
    "    \n",
    "    # Print the counts per element\n",
    "    counts_per_element | \"Print Counts Per Element\" >> beam.Map(print)\n"
   ]
  },
  {
   "cell_type": "code",
   "execution_count": null,
   "id": "8fad9582-fb4e-4a8b-83d7-aff7c1646f23",
   "metadata": {},
   "outputs": [],
   "source": []
  },
  {
   "cell_type": "code",
   "execution_count": 14,
   "id": "1b1428d0-edd8-4a3c-8642-db1082c81d8d",
   "metadata": {
    "tags": []
   },
   "outputs": [
    {
     "name": "stdout",
     "output_type": "stream",
     "text": [
      "3.0\n"
     ]
    }
   ],
   "source": [
    "import apache_beam as beam\n",
    "\n",
    "# Sample data: a list of numbers\n",
    "numbers = [1, 2, 3, 4, 5]\n",
    "\n",
    "# Create a Beam pipeline\n",
    "with beam.Pipeline() as p:\n",
    "    # Create a PCollection from the sample data\n",
    "    input_data = p | \"Create Input Data\" >> beam.Create(numbers)\n",
    "    \n",
    "    # Apply Mean.Globally transformation to calculate the mean of the numbers\n",
    "    mean_value = input_data | \"Calculate Mean Globally\" >> beam.combiners.Mean.Globally()\n",
    "    \n",
    "    # Print the mean value\n",
    "    mean_value | \"Print Mean Globally\" >> beam.Map(print)\n"
   ]
  },
  {
   "cell_type": "code",
   "execution_count": null,
   "id": "2c385df4-0c78-4883-a31c-d73f34bd0e98",
   "metadata": {},
   "outputs": [],
   "source": []
  }
 ],
 "metadata": {
  "environment": {
   "kernel": "apache-beam-2.54.0",
   "name": ".m121",
   "type": "gcloud",
   "uri": "us-docker.pkg.dev/deeplearning-platform-release/gcr.io/:m121"
  },
  "kernelspec": {
   "display_name": "Apache Beam 2.54.0 (Local)",
   "language": "python",
   "name": "apache-beam-2.54.0"
  },
  "language_info": {
   "codemirror_mode": {
    "name": "ipython",
    "version": 3
   },
   "file_extension": ".py",
   "mimetype": "text/x-python",
   "name": "python",
   "nbconvert_exporter": "python",
   "pygments_lexer": "ipython3",
   "version": "3.10.14"
  }
 },
 "nbformat": 4,
 "nbformat_minor": 5
}
